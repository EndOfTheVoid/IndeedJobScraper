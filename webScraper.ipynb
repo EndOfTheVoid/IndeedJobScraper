{
  "nbformat": 4,
  "nbformat_minor": 0,
  "metadata": {
    "colab": {
      "provenance": []
    },
    "kernelspec": {
      "name": "python3",
      "display_name": "Python 3"
    },
    "language_info": {
      "name": "python"
    }
  },
  "cells": [
    {
      "cell_type": "code",
      "source": [
        "import requests\n",
        "import time\n",
        "from bs4 import BeautifulSoup\n",
        "\n",
        "def extract(page):\n",
        "\n",
        "    url = f\"https://api.scrapingdog.com/scrape?api_key=xxxxxxxxxxxxxxxxxxxx&url=https://in.indeed.com/jobs?q=python+developer&start={page}&pp=gQAPAAABi2FZ6-4AAAACFRPobAA5AQAB45Bl09X1F072kGOMi2yOTBMXw_p8TMjrFwUIUNxZJfnLIS6jvDOseE8Y5edSf0ICISM_f20EAAA\"\n",
        "\n",
        "    req = requests.get(url)\n",
        "    # return req.status_code\n",
        "    soup = BeautifulSoup(req.content, 'html.parser')\n",
        "    return soup\n",
        "\n",
        "def transform(soup):\n",
        "    divs = soup.find_all('div', class_='job_seen_beacon')\n",
        "    for item in divs:\n",
        "        title = item.find('a').text.strip()\n",
        "        try:\n",
        "          company = item.find('span', class_='css-1x7z1ps').text.strip()\n",
        "        except:\n",
        "          company = ''\n",
        "        try:\n",
        "            salary = item.find('div', class_='salary-snippet-container').text.strip()\n",
        "        except:\n",
        "            salary = ''\n",
        "\n",
        "        try:\n",
        "            location = item.find('div', class_='css-t4u72d').text.strip()\n",
        "        except:\n",
        "            location = ''\n",
        "\n",
        "        job = {\n",
        "            'title': title,\n",
        "            'company': company,\n",
        "            'salary': salary,\n",
        "            'location': location\n",
        "        }\n",
        "        allJobs.append(job)\n",
        "        print(job)\n",
        "    return\n",
        "\n",
        "allJobs = []\n",
        "# transform(extract(0))\n",
        "for i in range(0,6670,10):\n",
        "    c = extract(i)\n",
        "    transform(c)\n",
        "    time.sleep(1)\n"
      ],
      "metadata": {
        "id": "WmuYSniiLeOL"
      },
      "execution_count": null,
      "outputs": []
    },
    {
      "cell_type": "code",
      "source": [
        "import pandas as pd\n",
        "df = pd.DataFrame(allJobs)\n",
        "dfC = df.copy()\n",
        "df.to_csv(\"originData\")"
      ],
      "metadata": {
        "id": "G9xyPP-nVNEl"
      },
      "execution_count": 54,
      "outputs": []
    },
    {
      "cell_type": "code",
      "source": [
        "import re\n",
        "\n",
        "def extractNum(input_string):\n",
        "    numbers = re.findall(r'\\d+', input_string)\n",
        "    numbers = [int(number) for number in numbers]\n",
        "    return numbers\n",
        "\n",
        "def Avg(lst):\n",
        "  return (sum(lst)/len(lst))\n"
      ],
      "metadata": {
        "id": "dCiiQ0FnuzHd"
      },
      "execution_count": 55,
      "outputs": []
    },
    {
      "cell_type": "code",
      "source": [
        "yearlySalary = []\n",
        "\n",
        "for salaryText in df.salary:\n",
        "  if salaryText != \"\":\n",
        "\n",
        "    if \"year\" in salaryText:\n",
        "      salaryText = salaryText.replace(\",\",\"\")\n",
        "      num = Avg(extractNum(salaryText))\n",
        "      yearlySalary.append(num)\n",
        "\n",
        "    if \"month\" in salaryText:\n",
        "      salaryText = salaryText.replace(\",\",\"\")\n",
        "      num = Avg(extractNum(salaryText))\n",
        "      yearlySalary.append(12*num)\n",
        "\n",
        "    if \"week\" in salaryText:\n",
        "      salaryText = salaryText.replace(\",\",\"\")\n",
        "      num = Avg(extractNum(salaryText))\n",
        "      yearlySalary.append(48*num)\n",
        "\n",
        "    if \"day\" in salaryText:\n",
        "      salaryText = salaryText.replace(\",\",\"\")\n",
        "      num = Avg(extractNum(salaryText))\n",
        "      yearlySalary.append(260*num)\n",
        "\n",
        "    if \"hour\" in salaryText:\n",
        "      salaryText = salaryText.replace(\",\",\"\")\n",
        "      num = Avg(extractNum(salaryText))\n",
        "      yearlySalary.append(8*260*num)\n",
        "\n",
        "  else:\n",
        "    yearlySalary.append(\"\")"
      ],
      "metadata": {
        "id": "fTPr391XpV2S"
      },
      "execution_count": 67,
      "outputs": []
    },
    {
      "cell_type": "code",
      "source": [
        "df[\"yearlySalary\"] = yearlySalary"
      ],
      "metadata": {
        "id": "SuBycMVgnrR-"
      },
      "execution_count": null,
      "outputs": []
    },
    {
      "cell_type": "code",
      "source": [
        "df.describe"
      ],
      "metadata": {
        "colab": {
          "base_uri": "https://localhost:8080/"
        },
        "id": "dXv1foPzwwIj",
        "outputId": "0e280457-da12-4517-b877-b00abebeb7f6"
      },
      "execution_count": 65,
      "outputs": [
        {
          "output_type": "execute_result",
          "data": {
            "text/plain": [
              "<bound method NDFrame.describe of                                                   title             company  \\\n",
              "0     Trainee Software Developer ( Exp Req: 0- 10 mo...                 CIS   \n",
              "1                                      Python Developer             Virtusa   \n",
              "2                               Python Django Developer          ZOG Global   \n",
              "3                                    R/ Python Engineer           NielsenIQ   \n",
              "4                    Python Developer for PlanIT in SML         Volvo Group   \n",
              "...                                                 ...                 ...   \n",
              "9904                 Senior Software Developer (Python)          S&P Global   \n",
              "9905            Software Engineer - FullStack Developer              Pluto7   \n",
              "9906                        Python Full Stack Developer              Zessta   \n",
              "9907                                      Software Test                 IBM   \n",
              "9908           Programmer (Dev) (3364980) - 5.3 - India  Persistent Systems   \n",
              "\n",
              "             salary                            location yearlySalary  \n",
              "0                                Indore, Madhya Pradesh               \n",
              "1                    Hybrid remote in Pune, Maharashtra               \n",
              "2                                                Remote               \n",
              "3                                     Pune, Maharashtra               \n",
              "4                                  Bengaluru, Karnataka               \n",
              "...             ...                                 ...          ...  \n",
              "9904                               Hyderabad, Telangana               \n",
              "9905                     Remote in Bengaluru, Karnataka               \n",
              "9906                               Hyderabad, Telangana               \n",
              "9907                                 Ahmedabad, Gujarat               \n",
              "9908  ₹17,000 a day      Remote in Hyderabad, Telangana    4420000.0  \n",
              "\n",
              "[9909 rows x 5 columns]>"
            ]
          },
          "metadata": {},
          "execution_count": 65
        }
      ]
    },
    {
      "cell_type": "code",
      "source": [
        "indexIndore = []\n",
        "indoreSalary = []\n",
        "\n",
        "for i in range(len(df)):\n",
        "  for x in [\"indore\", \"Indore\"]:\n",
        "    if x in df.iloc[i][\"location\"]:\n",
        "      indexIndore.append(i)\n",
        "\n",
        "for indice in indexIndore:\n",
        "  if df.iloc[indice][\"yearlySalary\"] != \"\":\n",
        "    indoreSalary.append(df.iloc[indice][\"yearlySalary\"])\n",
        "\n",
        "\n",
        "import numpy as np\n",
        "\n",
        "arr = np.array(indoreSalary)\n",
        "if len(arr)==0:\n",
        "  print(\"average cannot be found\")\n",
        "else:\n",
        "  print(np.mean(arr))\n",
        ""
      ],
      "metadata": {
        "colab": {
          "base_uri": "https://localhost:8080/"
        },
        "id": "_3IUgOZ0W0_y",
        "outputId": "61a7d8fd-06e0-47ae-b11c-31e83da41211"
      },
      "execution_count": 66,
      "outputs": [
        {
          "output_type": "stream",
          "name": "stdout",
          "text": [
            "716666.6666666666\n"
          ]
        }
      ]
    }
  ]
}